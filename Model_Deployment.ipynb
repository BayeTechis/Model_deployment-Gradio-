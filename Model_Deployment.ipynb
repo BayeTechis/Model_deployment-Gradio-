{
  "nbformat": 4,
  "nbformat_minor": 0,
  "metadata": {
    "colab": {
      "name": "Model Deployment.ipynb",
      "provenance": [],
      "collapsed_sections": []
    },
    "kernelspec": {
      "name": "python3",
      "display_name": "Python 3"
    },
    "language_info": {
      "name": "python"
    }
  },
  "cells": [
    {
      "cell_type": "code",
      "execution_count": null,
      "metadata": {
        "id": "ehYDEmj-gk1X"
      },
      "outputs": [],
      "source": [
        "!pip install gradio"
      ]
    },
    {
      "cell_type": "markdown",
      "source": [
        "## **Deploying Logistic Regression model of Iris dataset**"
      ],
      "metadata": {
        "id": "QTJKYp-df05s"
      }
    },
    {
      "cell_type": "code",
      "source": [
        "import seaborn as sns\n",
        "import pandas as pd\n",
        "from sklearn.linear_model import LogisticRegression\n",
        "from sklearn.metrics import accuracy_score\n",
        "from sklearn.model_selection import train_test_split"
      ],
      "metadata": {
        "id": "bC2Dv8QbgrdJ"
      },
      "execution_count": 11,
      "outputs": []
    },
    {
      "cell_type": "code",
      "source": [
        "data = sns.load_dataset(\"iris\")"
      ],
      "metadata": {
        "id": "MzKl9AwEX2Lj"
      },
      "execution_count": 12,
      "outputs": []
    },
    {
      "cell_type": "code",
      "source": [
        "X = data.iloc[:, :-1]\n",
        "y = data.iloc[:,-1]\n",
        "x_train, x_test, y_train, y_test = train_test_split(X, y, test_size=0.2)\n",
        "model = LogisticRegression(verbose=1, max_iter = 1000)\n",
        "model.fit(x_train, y_train)\n",
        "predictions = model.predict(x_test)"
      ],
      "metadata": {
        "colab": {
          "base_uri": "https://localhost:8080/"
        },
        "id": "xRe9-zXRYZe7",
        "outputId": "71a8bc8e-0fc7-4034-ef13-1fc897a85d2c"
      },
      "execution_count": 26,
      "outputs": [
        {
          "output_type": "stream",
          "name": "stderr",
          "text": [
            "[Parallel(n_jobs=1)]: Using backend SequentialBackend with 1 concurrent workers.\n",
            "[Parallel(n_jobs=1)]: Done   1 out of   1 | elapsed:    0.0s finished\n"
          ]
        }
      ]
    },
    {
      "cell_type": "code",
      "source": [
        "import gradio as gr \n",
        "def species(sepal_length,\tsepal_width,\tpetal_length,\tpetal_width):\n",
        "  test = pd.DataFrame(\n",
        "      {'sepal_length':sepal_length,\n",
        "       'sepal_width':sepal_width,\n",
        "       'petal_length':petal_length,\n",
        "       'petal_width':petal_width}, index =[0])\n",
        "  prediction = model.predict(test)[0]\n",
        "  return prediction       \n",
        "\n",
        "gr.Interface(fn=species, inputs=['number','number','number','number'], outputs='text').launch(share=True)"
      ],
      "metadata": {
        "colab": {
          "base_uri": "https://localhost:8080/",
          "height": 729
        },
        "id": "8UqUke8ccFAr",
        "outputId": "91ca0a53-0259-41b5-ab97-63a33e31ea3e"
      },
      "execution_count": 28,
      "outputs": [
        {
          "output_type": "stream",
          "name": "stdout",
          "text": [
            "Colab notebook detected. To show errors in colab notebook, set `debug=True` in `launch()`\n",
            "Running on public URL: https://56208.gradio.app\n",
            "\n",
            "This share link expires in 72 hours. For free permanent hosting, check out Spaces (https://huggingface.co/spaces)\n"
          ]
        },
        {
          "output_type": "display_data",
          "data": {
            "text/plain": [
              "<IPython.core.display.HTML object>"
            ],
            "text/html": [
              "<div><iframe src=\"https://56208.gradio.app\" width=\"900\" height=\"500\" allow=\"autoplay; camera; microphone;\" frameborder=\"0\" allowfullscreen></iframe></div>"
            ]
          },
          "metadata": {}
        },
        {
          "output_type": "execute_result",
          "data": {
            "text/plain": [
              "(<gradio.routes.App at 0x7f75d56b0390>,\n",
              " 'http://127.0.0.1:7869/',\n",
              " 'https://56208.gradio.app')"
            ]
          },
          "metadata": {},
          "execution_count": 28
        },
        {
          "output_type": "stream",
          "name": "stderr",
          "text": [
            "Exception in callback None(<Task finishe...> result=None>)\n",
            "handle: <Handle>\n",
            "Traceback (most recent call last):\n",
            "  File \"/usr/lib/python3.7/asyncio/events.py\", line 88, in _run\n",
            "    self._context.run(self._callback, *self._args)\n",
            "TypeError: 'NoneType' object is not callable\n"
          ]
        }
      ]
    },
    {
      "cell_type": "markdown",
      "source": [
        "### **Deploying Linear Regression Model with Seoul Bike Data**"
      ],
      "metadata": {
        "id": "1hBOpjPFhvSk"
      }
    },
    {
      "cell_type": "code",
      "source": [
        "import pickle\n",
        "with open('/content/bikemodel.pkl', 'rb') as file:  \n",
        "    bikemodel= pickle.load(file)"
      ],
      "metadata": {
        "id": "kONMrQSJqGzf"
      },
      "execution_count": 41,
      "outputs": []
    },
    {
      "cell_type": "code",
      "source": [
        "def bikecount(Hour, Temperature,Humidity,\tWind_speed,\tVisibility, Dew_point_temperature,Summer,Winter,Solar_Radiation, Rainfal,Snowfal):\n",
        "  test = pd.DataFrame(\n",
        "      {'Hour': Hour,\t'Temperature(C)': Temperature,\t'Humidity(%)': Humidity,\t'Wind speed (m/s)': Wind_speed,\t'Visibility (10m)': Visibility, \n",
        "       'Dew point temperature(C)': Dew_point_temperature,\t'Summer': Summer, 'Winter': Winter, 'Solar Radiation (MJ/m2)': Solar_Radiation,\t'Rainfall(mm)': Rainfal,\t'Snowfall (cm)': Snowfal}, index =[0])\n",
        "  prediction = bikemodel.predict(test)[0]\n",
        "  return prediction       \n",
        "\n",
        "gr.Interface(fn=bikecount, inputs=['number','number','number', 'number','number','number','number', 'number','number','number','number'], outputs='number').launch(share=True)"
      ],
      "metadata": {
        "colab": {
          "base_uri": "https://localhost:8080/",
          "height": 729
        },
        "id": "MFdLgkRjr7Wm",
        "outputId": "f066946a-bd20-45dc-d278-b87abf307fbc"
      },
      "execution_count": 40,
      "outputs": [
        {
          "output_type": "stream",
          "name": "stdout",
          "text": [
            "Colab notebook detected. To show errors in colab notebook, set `debug=True` in `launch()`\n",
            "Running on public URL: https://48424.gradio.app\n",
            "\n",
            "This share link expires in 72 hours. For free permanent hosting, check out Spaces (https://huggingface.co/spaces)\n"
          ]
        },
        {
          "output_type": "display_data",
          "data": {
            "text/plain": [
              "<IPython.core.display.HTML object>"
            ],
            "text/html": [
              "<div><iframe src=\"https://48424.gradio.app\" width=\"900\" height=\"500\" allow=\"autoplay; camera; microphone;\" frameborder=\"0\" allowfullscreen></iframe></div>"
            ]
          },
          "metadata": {}
        },
        {
          "output_type": "execute_result",
          "data": {
            "text/plain": [
              "(<gradio.routes.App at 0x7f75cb248410>,\n",
              " 'http://127.0.0.1:7874/',\n",
              " 'https://48424.gradio.app')"
            ]
          },
          "metadata": {},
          "execution_count": 40
        },
        {
          "output_type": "stream",
          "name": "stderr",
          "text": [
            "Exception in callback None(<Task finishe...> result=None>)\n",
            "handle: <Handle>\n",
            "Traceback (most recent call last):\n",
            "  File \"/usr/lib/python3.7/asyncio/events.py\", line 88, in _run\n",
            "    self._context.run(self._callback, *self._args)\n",
            "TypeError: 'NoneType' object is not callable\n"
          ]
        }
      ]
    },
    {
      "cell_type": "markdown",
      "source": [
        "### **Deploying KNN model with Ortho_knnb dataset**"
      ],
      "metadata": {
        "id": "c0H_KWiP3vIv"
      }
    },
    {
      "cell_type": "code",
      "source": [
        "with open('/content/knnmodel', 'rb') as file:  \n",
        "    knnmodel= pickle.load(file)"
      ],
      "metadata": {
        "id": "XcEBvErw2oK0"
      },
      "execution_count": 44,
      "outputs": []
    },
    {
      "cell_type": "code",
      "source": [
        "def knn_classifier(pelvic_incidence, pelvic_tilt_numeric, lumbar_lordosis_angle, sacral_slope, pelvic_radius, degree_spondylolisthesis):\n",
        "  test = pd.DataFrame(\n",
        "      {'pelvic_incidence': pelvic_incidence, 'pelvic_tilt numeric': pelvic_tilt_numeric, 'lumbar_lordosis_angle': lumbar_lordosis_angle,\n",
        "       'sacral_slope': sacral_slope, 'pelvic_radius': pelvic_radius, 'degree_spondylolisthesis': degree_spondylolisthesis}, index =[0])\n",
        "  prediction = knnmodel.predict(test)[0]\n",
        "  return prediction       \n",
        "\n",
        "gr.Interface(fn=knn_classifier, inputs=['number','number','number', 'number','number','number'], outputs='text').launch(share=True)"
      ],
      "metadata": {
        "colab": {
          "base_uri": "https://localhost:8080/",
          "height": 729
        },
        "id": "KRnXYQw-5kmd",
        "outputId": "2a430812-46f4-4e23-f441-e9672b17f703"
      },
      "execution_count": 47,
      "outputs": [
        {
          "output_type": "stream",
          "name": "stdout",
          "text": [
            "Colab notebook detected. To show errors in colab notebook, set `debug=True` in `launch()`\n",
            "Running on public URL: https://23576.gradio.app\n",
            "\n",
            "This share link expires in 72 hours. For free permanent hosting, check out Spaces (https://huggingface.co/spaces)\n"
          ]
        },
        {
          "output_type": "display_data",
          "data": {
            "text/plain": [
              "<IPython.core.display.HTML object>"
            ],
            "text/html": [
              "<div><iframe src=\"https://23576.gradio.app\" width=\"900\" height=\"500\" allow=\"autoplay; camera; microphone;\" frameborder=\"0\" allowfullscreen></iframe></div>"
            ]
          },
          "metadata": {}
        },
        {
          "output_type": "execute_result",
          "data": {
            "text/plain": [
              "(<gradio.routes.App at 0x7f75c4ecb950>,\n",
              " 'http://127.0.0.1:7877/',\n",
              " 'https://23576.gradio.app')"
            ]
          },
          "metadata": {},
          "execution_count": 47
        },
        {
          "output_type": "stream",
          "name": "stderr",
          "text": [
            "Exception in callback None(<Task finishe...> result=None>)\n",
            "handle: <Handle>\n",
            "Traceback (most recent call last):\n",
            "  File \"/usr/lib/python3.7/asyncio/events.py\", line 88, in _run\n",
            "    self._context.run(self._callback, *self._args)\n",
            "TypeError: 'NoneType' object is not callable\n"
          ]
        }
      ]
    },
    {
      "cell_type": "markdown",
      "source": [
        "### **Deploying Logostic Regression Model with Wine dataset**"
      ],
      "metadata": {
        "id": "iwu6PJcC9crs"
      }
    },
    {
      "cell_type": "code",
      "source": [
        "from sklearn import datasets\n",
        "diabetic = datasets.load_wine()\n",
        "data = pd.DataFrame(diabetic.data, columns=diabetic.feature_names)\n",
        "y= diabetic.target\n",
        "model = LogisticRegression(max_iter = 10000)\n",
        "X_train,X_test,Y_train,Y_test = train_test_split(data,y,test_size=0.2,random_state=10)"
      ],
      "metadata": {
        "id": "g9K1oey38Z7p"
      },
      "execution_count": 49,
      "outputs": []
    },
    {
      "cell_type": "code",
      "source": [
        "wine_model = LogisticRegression(max_iter = 10000)\n",
        "wine_model.fit(X_train,Y_train)"
      ],
      "metadata": {
        "colab": {
          "base_uri": "https://localhost:8080/"
        },
        "id": "0tQ5l4S58nYl",
        "outputId": "011bd522-db42-4d7b-fa2c-dd0b23ed89e3"
      },
      "execution_count": 50,
      "outputs": [
        {
          "output_type": "execute_result",
          "data": {
            "text/plain": [
              "LogisticRegression(max_iter=10000)"
            ]
          },
          "metadata": {},
          "execution_count": 50
        }
      ]
    },
    {
      "cell_type": "code",
      "source": [
        "def wine_classifiction(alcohol, malic_acid, ash, alcalinity_of_ash,magnesium, total_phenols, flavanoids, nonflavanoid_phenols,\n",
        "                       proanthocyanins, color_intensity,hue,of_diluted_wines, proline):\n",
        "\n",
        "    test = pd.DataFrame({'alcohol':alcohol, \n",
        "                         'malic_acid': malic_acid, \n",
        "                         'ash': ash, \n",
        "                         'alcalinity_of_ash': alcalinity_of_ash,\n",
        "                         'magnesium': magnesium,\n",
        "                         'total_phenols': total_phenols, \n",
        "                         'flavanoids':flavanoids, \n",
        "                         'nonflavanoid_phenols': nonflavanoid_phenols, \n",
        "                         'proanthocyanins': proanthocyanins, \n",
        "                         'color_intensity': color_intensity,\n",
        "                         'hue': hue, \n",
        "                         'od280/od315_of_diluted_wines': of_diluted_wines, \n",
        "                         'proline': proline}, index = [0])\n",
        "\n",
        "    test_pred = wine_model.predict(test)[0]\n",
        "    \n",
        "    if test_pred==0:\n",
        "        result = 'class of wine is 0'\n",
        "    elif test_pred==1:\n",
        "        result = 'class of wine is 1'\n",
        "    else :\n",
        "        result = 'Class of wine is 2'\n",
        "        \n",
        "        \n",
        "    return result\n",
        "    \n",
        "\n",
        "\n",
        "gr.Interface(fn=wine_classifiction, inputs=['number','number','number','number','number','number','number','number','number','number','number','number','number'], outputs='text').launch(share=True)"
      ],
      "metadata": {
        "colab": {
          "base_uri": "https://localhost:8080/",
          "height": 642
        },
        "id": "elkG4KEK8727",
        "outputId": "a98d8d8f-905d-4a51-f383-79b4d61b57ea"
      },
      "execution_count": 51,
      "outputs": [
        {
          "output_type": "stream",
          "name": "stdout",
          "text": [
            "Colab notebook detected. To show errors in colab notebook, set `debug=True` in `launch()`\n",
            "Running on public URL: https://59074.gradio.app\n",
            "\n",
            "This share link expires in 72 hours. For free permanent hosting, check out Spaces (https://huggingface.co/spaces)\n"
          ]
        },
        {
          "output_type": "display_data",
          "data": {
            "text/plain": [
              "<IPython.core.display.HTML object>"
            ],
            "text/html": [
              "<div><iframe src=\"https://59074.gradio.app\" width=\"900\" height=\"500\" allow=\"autoplay; camera; microphone;\" frameborder=\"0\" allowfullscreen></iframe></div>"
            ]
          },
          "metadata": {}
        },
        {
          "output_type": "execute_result",
          "data": {
            "text/plain": [
              "(<gradio.routes.App at 0x7f75c06aebd0>,\n",
              " 'http://127.0.0.1:7878/',\n",
              " 'https://59074.gradio.app')"
            ]
          },
          "metadata": {},
          "execution_count": 51
        }
      ]
    }
  ]
}